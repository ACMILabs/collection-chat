{
  "nbformat": 4,
  "nbformat_minor": 0,
  "metadata": {
    "colab": {
      "provenance": []
    },
    "kernelspec": {
      "name": "python3",
      "display_name": "Python 3"
    },
    "language_info": {
      "name": "python"
    }
  },
  "cells": [
    {
      "cell_type": "markdown",
      "source": [
        "Using [Langchain RetrievalQA](https://github.com/langchain-ai/langchain/blob/master/cookbook/openai_functions_retrieval_qa.ipynb) to chat with our collection data."
      ],
      "metadata": {
        "id": "7UBggR62J1Nl"
      }
    },
    {
      "cell_type": "code",
      "execution_count": 38,
      "metadata": {
        "id": "JyY6EB_AtSHT"
      },
      "outputs": [],
      "source": [
        "!pip install --quiet langchain langchain-openai requests jq chromadb"
      ]
    },
    {
      "cell_type": "code",
      "source": [
        "import json\n",
        "import jq\n",
        "import requests\n",
        "\n",
        "from langchain_community.document_loaders import JSONLoader\n",
        "\n",
        "\n",
        "# First page of works on the ACMI Public API\n",
        "json_data = requests.get('https://api.acmi.net.au/works/').json()\n",
        "file_path = 'data.json'\n",
        "with open(file_path, 'w', encoding='utf-8') as json_file:\n",
        "    json.dump(json_data, json_file)\n",
        "json_loader = JSONLoader(\n",
        "    file_path=file_path,\n",
        "    jq_schema='.results[]',\n",
        "    text_content=False,\n",
        ")\n",
        "data = json_loader.load()\n",
        "for i, item in enumerate(data):\n",
        "    item.metadata['source'] = f'https://api.acmi.net.au/works/{json_data[\"results\"][i][\"id\"]}'"
      ],
      "metadata": {
        "id": "heGRO8F2uVmt"
      },
      "execution_count": 26,
      "outputs": []
    },
    {
      "cell_type": "code",
      "source": [
        "import getpass\n",
        "import os\n",
        "\n",
        "os.environ[\"OPENAI_API_KEY\"] = getpass.getpass()"
      ],
      "metadata": {
        "colab": {
          "base_uri": "https://localhost:8080/"
        },
        "id": "xKkmI-7Oys12",
        "outputId": "65a4a8e6-89a7-4ad4-8698-f3b956a5b628"
      },
      "execution_count": 13,
      "outputs": [
        {
          "name": "stdout",
          "output_type": "stream",
          "text": [
            "··········\n"
          ]
        }
      ]
    },
    {
      "cell_type": "code",
      "source": [
        "# Run this step if you'd like langchain tracing via LangSmith https://smith.langchain.com\n",
        "os.environ[\"LANGCHAIN_TRACING_V2\"] = \"true\"\n",
        "os.environ[\"LANGCHAIN_API_KEY\"] = getpass.getpass()"
      ],
      "metadata": {
        "colab": {
          "base_uri": "https://localhost:8080/"
        },
        "id": "d8z5oA9YDAV2",
        "outputId": "19eb2a17-ff85-4524-b8cb-575112b42fd5"
      },
      "execution_count": 48,
      "outputs": [
        {
          "name": "stdout",
          "output_type": "stream",
          "text": [
            "··········\n"
          ]
        }
      ]
    },
    {
      "cell_type": "code",
      "source": [
        "from langchain_community.vectorstores import Chroma\n",
        "from langchain_openai import OpenAIEmbeddings\n",
        "\n",
        "\n",
        "embeddings = OpenAIEmbeddings()\n",
        "docsearch = Chroma.from_documents(data, embeddings)"
      ],
      "metadata": {
        "id": "f3WAfC7Dww_2"
      },
      "execution_count": 27,
      "outputs": []
    },
    {
      "cell_type": "code",
      "source": [
        "from langchain.chains import RetrievalQA\n",
        "from langchain.chains import create_qa_with_sources_chain\n",
        "from langchain.chains.combine_documents.stuff import StuffDocumentsChain\n",
        "from langchain.prompts import PromptTemplate\n",
        "from langchain_openai import ChatOpenAI\n",
        "\n",
        "\n",
        "llm = ChatOpenAI(temperature=0, model='gpt-4-turbo-preview')\n",
        "qa_chain = create_qa_with_sources_chain(llm)\n",
        "doc_prompt = PromptTemplate(\n",
        "    template=\"Content: {page_content}\\nSource: {source}\",\n",
        "    input_variables=[\"page_content\", \"source\"],\n",
        ")\n",
        "final_qa_chain = StuffDocumentsChain(\n",
        "    llm_chain=qa_chain,\n",
        "    document_variable_name=\"context\",\n",
        "    document_prompt=doc_prompt,\n",
        ")\n",
        "retrieval_qa = RetrievalQA(\n",
        "    retriever=docsearch.as_retriever(), combine_documents_chain=final_qa_chain\n",
        ")"
      ],
      "metadata": {
        "id": "7YBdMkwXzbOc"
      },
      "execution_count": 28,
      "outputs": []
    },
    {
      "cell_type": "code",
      "source": [
        "query = 'What can you tell me about \"The Drover\\'s Wife\"? Who made it?'\n",
        "response = retrieval_qa.run(query)\n",
        "print(f'Answer: {json.loads(response)[\"answer\"]}')\n",
        "print(f'Sources: {json.loads(response)[\"sources\"]}')"
      ],
      "metadata": {
        "colab": {
          "base_uri": "https://localhost:8080/"
        },
        "id": "ZpKmvCpl0-Ii",
        "outputId": "699109bf-e043-4052-a73b-9329f8aec1fa"
      },
      "execution_count": 43,
      "outputs": [
        {
          "output_type": "stream",
          "name": "stdout",
          "text": [
            "Answer: \"The Drover's Wife\" is a work that includes elements such as \"The Drover's Wife: Molly Johnson (Leah Purcell) with clapper board\" and \"The Drover's Wife: Yadaka (Rob Collins) and Danny (Malachi Dower-Roberts) still.\" These works were created in Australia in 2021 and are part of the group \"The Drover's Wife: The Legend of Molly Johnson.\" Tess Schofield is credited as the costume designer for the work featuring Molly Johnson, indicating her involvement in the production's design aspects. The works are credited to Oombarra Productions and Bunya Productions, as indicated by the credit line. They were displayed at ACMI: Gallery 1, with the last display date noted as August 14, 2024. The works are categorized under the curatorial section \"The Story of the Moving Image → Moving Australia → MA-11. Screen Australia Showcase → MA-11-C01\" and are identified as 2D objects and costume continuity elements/pictorial.\n",
            "Sources: ['https://api.acmi.net.au/works/121889', 'https://api.acmi.net.au/works/121890']\n"
          ]
        }
      ]
    },
    {
      "cell_type": "code",
      "source": [
        "query = 'What can you tell me about \"Minyak Sawit Keluarga\"? Who made it? Where was it on display?'\n",
        "response = retrieval_qa.run(query)\n",
        "print(f'Answer: {json.loads(response)[\"answer\"]}')\n",
        "print(f'Sources: {json.loads(response)[\"sources\"]}')"
      ],
      "metadata": {
        "colab": {
          "base_uri": "https://localhost:8080/"
        },
        "id": "rK6Kc07K9K-f",
        "outputId": "149a00bd-a7a5-4a9c-b4a7-fffa1530ed97"
      },
      "execution_count": 46,
      "outputs": [
        {
          "output_type": "stream",
          "name": "stdout",
          "text": [
            "Answer: \"Minyak Sawit Keluarga (Palm Oil Family)\" is an artwork by Olivia Koh. It examines her paternal family’s history of farming practices in rural Southern Malaysia (Peninsula), focusing on domestic-scale palm oil plantations in Johor. The work includes footage of these plantations, visual and auditory recordings of funerary Daoist rituals, documents, and interviews that consider the palm oil industry and the relevant history of migration in the local area. It was commissioned by Hyphenated Projects and ACMI. Although it is not currently on display, it was last shown at ACMI: Gallery 5.\n",
            "Sources: ['https://api.acmi.net.au/works/122462']\n"
          ]
        }
      ]
    },
    {
      "cell_type": "code",
      "source": [
        "query = 'Which works are on display in The Story of the Moving Image?'\n",
        "response = retrieval_qa.run(query)\n",
        "print(f'Answer: {json.loads(response)[\"answer\"]}')\n",
        "print(f'Sources: {json.loads(response)[\"sources\"]}')"
      ],
      "metadata": {
        "colab": {
          "base_uri": "https://localhost:8080/"
        },
        "id": "ZNDZMZltEtTn",
        "outputId": "b7fd065b-1baa-4257-cd73-a845175a345f"
      },
      "execution_count": 47,
      "outputs": [
        {
          "output_type": "stream",
          "name": "stdout",
          "text": [
            "Answer: The work titled \"Solider's dream effect slide\" is currently on display in The Story of the Moving Image → Moving Pictures → MI-02. Play and Illusion section at ACMI: Gallery 1.\n",
            "Sources: ['https://api.acmi.net.au/works/122524']\n"
          ]
        }
      ]
    },
    {
      "cell_type": "code",
      "source": [
        "query = 'Is there any digital art in the collection?'\n",
        "response = retrieval_qa.run(query)\n",
        "print(f'Answer: {json.loads(response)[\"answer\"]}')\n",
        "print(f'Sources: {json.loads(response)[\"sources\"]}')"
      ],
      "metadata": {
        "colab": {
          "base_uri": "https://localhost:8080/"
        },
        "id": "e_wkQed_HIzL",
        "outputId": "4f9ebbda-a324-473d-a43f-6c333110dfa1"
      },
      "execution_count": 49,
      "outputs": [
        {
          "output_type": "stream",
          "name": "stdout",
          "text": [
            "Answer: Yes, there is digital art in the collection. The items such as the \"Ship and lightning effect slide\" and the \"Solider's dream effect slide\" are examples of digital art. These works are facsimiles created using ultraclear print on acrylic, indicating a digital or modern printing process.\n",
            "Sources: ['https://api.acmi.net.au/works/122522', 'https://api.acmi.net.au/works/122524']\n"
          ]
        }
      ]
    },
    {
      "cell_type": "code",
      "source": [
        "query = 'Who is Bonnie Cummings?'\n",
        "response = retrieval_qa.run(query)\n",
        "print(f'Answer: {json.loads(response)[\"answer\"]}')\n",
        "print(f'Sources: {json.loads(response)[\"sources\"]}')"
      ],
      "metadata": {
        "colab": {
          "base_uri": "https://localhost:8080/"
        },
        "id": "-a9R5KDlHtD4",
        "outputId": "62b81344-794b-4e4c-d560-ed33f159a62c"
      },
      "execution_count": 51,
      "outputs": [
        {
          "output_type": "stream",
          "name": "stdout",
          "text": [
            "Answer: The provided content does not contain any information about a person named Bonnie Cummings.\n",
            "Sources: ['/content/data.json', 'https://api.acmi.net.au/works/121886', 'https://api.acmi.net.au/works/121889']\n"
          ]
        }
      ]
    },
    {
      "cell_type": "code",
      "source": [
        "query = 'What is \"Ship and lightning effect slide\" made out of?'\n",
        "response = retrieval_qa.run(query)\n",
        "print(f'Answer: {json.loads(response)[\"answer\"]}')\n",
        "print(f'Sources: {json.loads(response)[\"sources\"]}')"
      ],
      "metadata": {
        "colab": {
          "base_uri": "https://localhost:8080/"
        },
        "id": "XIDyjgeXI5TA",
        "outputId": "357cd2ea-8284-46f7-ad93-07fb100b5ded"
      },
      "execution_count": 52,
      "outputs": [
        {
          "output_type": "stream",
          "name": "stdout",
          "text": [
            "Answer: The \"Ship and lightning effect slide\" is made out of ultraclear print on acrylic.\n",
            "Sources: ['https://api.acmi.net.au/works/122522']\n"
          ]
        }
      ]
    }
  ]
}